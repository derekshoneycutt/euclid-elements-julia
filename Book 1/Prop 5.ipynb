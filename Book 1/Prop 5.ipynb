{
 "cells": [
  {
   "cell_type": "code",
   "execution_count": 28,
   "metadata": {},
   "outputs": [],
   "source": [
    "include(\"../EuclidElements.jl\");"
   ]
  },
  {
   "cell_type": "markdown",
   "metadata": {},
   "source": [
    "# Book 1"
   ]
  },
  {
   "cell_type": "markdown",
   "metadata": {},
   "source": [
    "## Proposition 5\n",
    "\n",
    "In isoceles triangles the angles at the base are equal to one another, and, if the equal straight lines be produced further, the angles under the base will be equal to one another."
   ]
  },
  {
   "cell_type": "code",
   "execution_count": 56,
   "metadata": {},
   "outputs": [],
   "source": [
    "#ABC is isosceles, AB = AC\n",
    "len_AB_0 = 1.0\n",
    "len_AB = Observable(len_AB_0)\n",
    "∠BAC_0 = π/4\n",
    "∠BAC = Observable(∠BAC_0)\n",
    "len_extend_0 = 1.0\n",
    "len_extend = Observable(len_extend_0)\n",
    "\n",
    "#Construct the triangle...\n",
    "A_0 = Point2f(0,0)\n",
    "A = Observable(A_0)\n",
    "B_0 = Point2f(len_AB_0,0)\n",
    "B = @lift(Point2f($len_AB,0))\n",
    "function get_C(∠_n, B_n)\n",
    "    C_x,C_y = [cos(∠_n) -sin(∠_n); sin(∠_n) cos(∠_n)]*B_n\n",
    "    Point2f(C_x, C_y)\n",
    "end\n",
    "C_0 = get_C(∠BAC_0, B_0)\n",
    "C = @lift(get_C($∠BAC, $B))\n",
    "\n",
    "#Create BD & CE off of AB, AC\n",
    "D = @lift(continue_line($A, $B, $len_extend))\n",
    "E = @lift(continue_line($A, $C, $len_extend))\n",
    "\n",
    "#Get F along BD\n",
    "F = @lift(continue_line($A, $B, $len_AB + $len_extend/2))\n",
    "\n",
    "#Take AG equal to AF\n",
    "G_cut = @lift(CutLine_from($C, $E, $B, $F))\n",
    "G = @lift(Point($G_cut))\n",
    "\n",
    "\n",
    "#setup the chart space...\n",
    "f = Figure()\n",
    "ax = Axis(f[1,1])\n",
    "xlims!(ax, -4,6)\n",
    "ylims!(ax, -4,6)\n",
    "\n",
    "# Draw the lines\n",
    "draw_lines(G_cut, color=:pink)\n",
    "lines!(@lift([$A,$B]), color=:blue)\n",
    "lines!(@lift([$A,$C]), color=:blue)\n",
    "lines!(@lift([$B,$C]), color=:blue)\n",
    "lines!(@lift([$B,$D]), color=:purple)\n",
    "lines!(@lift([$C,$E]), color=:purple)\n",
    "lines!(@lift([$F,$C]), color=:red)\n",
    "lines!(@lift([$G,$B]), color=:red)\n",
    "\n",
    "#Now draw the point labels\n",
    "Apoint = text!(A, text=\"A\")\n",
    "Bpoint = text!(B, text=\"B\")\n",
    "Cpoint = text!(C, text=\"C\")\n",
    "Dpoint = text!(D, text=\"D\")\n",
    "Epoint = text!(E, text=\"E\")\n",
    "Fpoint = text!(F, text=\"F\")\n",
    "Gpoint = text!(G, text=\"G\")\n",
    "\n",
    "# Draw the animation!\n",
    "framerate = 24\n",
    "d_s = 6\n",
    "timestamps = range(0,4π, step=2π/(d_s*framerate))\n",
    "\n",
    "record(f, \"Euclid-I-5.gif\", timestamps; framerate=framerate) do t\n",
    "    len_AB[] = len_AB_0 * (1+sin(t)/1.5)\n",
    "    new_F = continue_line(A[], B[], (len_extend_0 * (1+sin(t)/1.5))/2)\n",
    "    F[] = new_F\n",
    "    ∠BAC[] = ∠BAC_0 + (0.5+cos(t)/2)\n",
    "end;"
   ]
  },
  {
   "cell_type": "markdown",
   "metadata": {},
   "source": [
    "![animation](Euclid-I-5.gif)"
   ]
  }
 ],
 "metadata": {
  "kernelspec": {
   "display_name": "Julia 1.7.3",
   "language": "julia",
   "name": "julia-1.7"
  },
  "language_info": {
   "file_extension": ".jl",
   "mimetype": "application/julia",
   "name": "julia",
   "version": "1.7.3"
  },
  "orig_nbformat": 4
 },
 "nbformat": 4,
 "nbformat_minor": 2
}
