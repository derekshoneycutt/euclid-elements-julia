{
 "cells": [
  {
   "cell_type": "markdown",
   "metadata": {},
   "source": [
    "# Book 1 Definitions, Postulates, Notions"
   ]
  },
  {
   "cell_type": "markdown",
   "metadata": {},
   "source": [
    "## Definitions\n",
    "\n",
    "**Definition I.1**: A **Point** is that which has no part.\n",
    "\n",
    "**Definition I.2**: A **Line** is breadthless length.\n",
    "\n",
    "**Definition I.3**: The **Extremities of a line** are points.\n",
    "\n",
    "**Definition I.4**: A **Straight Line** is a line which lies evenly with the points on itself.\n",
    "\n",
    "**Definition I.5**: A **Surface** is that which has length and breadth only.\n",
    "\n",
    "**Definition I.6**: The **Extremities of a surface** are lines.\n",
    "\n",
    "**Definition I.7**: A **Plane Surface** is a surface which lies evenly with the straight lines on itself.\n",
    "\n",
    "**Definition I.8**: A **Plane Angle** is the inclination to one another of two lines in a plane which meet one another and do not lie in a straight line.\n",
    "\n",
    "**Definition I.9**: And when the lines containing the angle are straight, the angle is called **Rectilineal**.\n",
    "\n",
    "**Definition I.10**: When a straight line set up on a straight line makes the adjacent angles equal to one another, each of the equal angles is **Right**, and the straight line standing on the other is called a **Perpendicular** to that on which it stands.\n",
    "\n",
    "**Definition I.11**: An **Obtuse Angle** is an angle greater than a right angle.\n",
    "\n",
    "**Definition I.12**: An **Acute Angle** is an angle less than a right angle.\n",
    "\n",
    "**Definition I.13**: A **Boundary** is that which is an extremity of anything.\n",
    "\n",
    "**Definition I.14**: A **Figure** is that which is contained by any boundary or boundaries.\n",
    "\n",
    "**Definition I.15**: A **Circle** is a plane figure contained by one line such that all the straight lines falling upon it from one point among those lying within the figure are equal to one another.\n",
    "\n",
    "*Note from Derek*: And those lines are each a **Radius**. Euclid didn't define this, but it is contained in I.15.\n",
    "\n",
    "**Definition I.16**: And the point is called the **Center** of the circle.\n",
    "\n",
    "**Definition I.17**: A **Diameter** of the circle is any straight line drawn through the center and terminated in both directions by the circumference of the circle, and such a straight line also bisects the circle.\n",
    "\n",
    "**Definition I.18**: A **Semicircle** is the figure contained by the diameter and the circumference cut off by it. And the center of the semicircle is the same as that of the circle.\n",
    "\n",
    "**Definition I.19**: **Rectilineal Figures** are those which are contained by straight lines, **Trilateral** figures being thsoe contained by three, **Quadrilateral** those contained by four, and **Multilateral** thoes contained by more than four straight lines.\n",
    "\n",
    "**Definition I.20**: Of trilateral figures, and **Equilateral Triangle** is that which has its three sides equal, and **Isosceles Triangle** that which has two of its sides alone equal, and a **Scalene Triangle** that which has its three sides unequal.\n",
    "\n",
    "**Definition I.21**: Further, of tilateral figures, a **Right-Angled Triangle** is that which has a right angle, and **Obtuse-Angled Triangle** that which has an obtuse angle, and an **Acute-Angled Triangle** that which has its three angles acute.\n",
    "\n",
    "**Definition I.22**: Of quadrilateral figures, a **Square** is that which is both equilateral and right-angled; an **Oblong** that which is right-angled but not equilateral; a **Rhombus** that which is equilateral but not right-angled; and a **Rhomboid** that which has its opposite sides and angles equal to one another but is neither equilateral nor right-angled.\n",
    "\n",
    "**Definition I.23**: **Parallel** straight lines are straight lines which, being in the same plane and being produced indefinitely in both directions, do not meet one another in either direction."
   ]
  },
  {
   "cell_type": "markdown",
   "metadata": {},
   "source": [
    "## Postulates\n",
    "\n",
    "Let the following be postulated:\n",
    "\n",
    "1. To draw a straight line from any point to any point.\n",
    "1. To produce a finite straight line continuously in a straight line.\n",
    "1. To describe a circle with any center and distance.\n",
    "1. That all right angles are equal to one another.\n",
    "1. That, if a straight line falling on two straight lines make the interior angles on the same side less than two right angles, the two straight lines, if produced indefinitely, meet on the side on which are the angles less than the two right angles."
   ]
  },
  {
   "cell_type": "markdown",
   "metadata": {},
   "source": [
    "## Common Notions\n",
    "\n",
    "1. Things which are equal to the same thing are also equal to one another.\n",
    "1. If equals be added to equal, the wholes are equal.\n",
    "1. If equals be subtracted from equals, the remainders are qual.\n",
    "1. Things which coincide with one another are equal to one another.\n",
    "1. The whole is greater than the part."
   ]
  }
 ],
 "metadata": {
  "kernelspec": {
   "display_name": "Julia",
   "language": "julia",
   "name": "julia"
  },
  "language_info": {
   "name": "julia",
   "version": "3.8.10"
  },
  "orig_nbformat": 4,
  "vscode": {
   "interpreter": {
    "hash": "916dbcbb3f70747c44a77c7bcd40155683ae19c65e1c03b4aa3499c5328201f1"
   }
  }
 },
 "nbformat": 4,
 "nbformat_minor": 2
}
